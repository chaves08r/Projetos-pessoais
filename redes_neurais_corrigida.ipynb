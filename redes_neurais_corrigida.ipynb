{
  "nbformat": 4,
  "nbformat_minor": 0,
  "metadata": {
    "colab": {
      "provenance": [],
      "authorship_tag": "ABX9TyPPrtktPB6J+ibskJ2CiQYc",
      "include_colab_link": true
    },
    "kernelspec": {
      "name": "python3",
      "display_name": "Python 3"
    },
    "language_info": {
      "name": "python"
    }
  },
  "cells": [
    {
      "cell_type": "markdown",
      "metadata": {
        "id": "view-in-github",
        "colab_type": "text"
      },
      "source": [
        "<a href=\"https://colab.research.google.com/github/chaves08r/Projetos-pessoais/blob/main/redes_neurais_corrigida.ipynb\" target=\"_parent\"><img src=\"https://colab.research.google.com/assets/colab-badge.svg\" alt=\"Open In Colab\"/></a>"
      ]
    },
    {
      "cell_type": "code",
      "execution_count": 2,
      "metadata": {
        "colab": {
          "base_uri": "https://localhost:8080/",
          "height": 725
        },
        "id": "VQkf5BBRdEAu",
        "outputId": "8d977503-1e4b-4ab4-d893-2bb0ce46577c"
      },
      "outputs": [
        {
          "output_type": "display_data",
          "data": {
            "text/plain": [
              "<Figure size 640x480 with 1 Axes>"
            ],
            "image/png": "[encoded data removed]"
          },
          "metadata": {}
        },
        {
          "output_type": "stream",
          "name": "stdout",
          "text": [
            "torch.Size([1, 28, 28])\n",
            "torch.Size([])\n",
            "Epoch 1 - perda resultante: 1.2144407886050657\n",
            "Epoch 2 - perda resultante: 0.3820294948147812\n",
            "Epoch 3 - perda resultante: 0.31149678726567387\n",
            "Epoch 4 - perda resultante: 0.27184245631352927\n",
            "Epoch 5 - perda resultante: 0.24106349396521348\n",
            "Epoch 6 - perda resultante: 0.2163527392939146\n",
            "Epoch 7 - perda resultante: 0.19438656383771885\n",
            "Epoch 8 - perda resultante: 0.17629196490051904\n",
            "Epoch 9 - perda resultante: 0.16064065342733283\n",
            "Epoch 10 - perda resultante: 0.14729275323871546\n",
            "\n",
            "Tempo de treino (em minutos) =  1.6042372743288675\n",
            "Total de imagens testadas = 10000\n",
            "\n",
            "Precisão do modelo = 95.74%\n"
          ]
        }
      ],
      "source": [
        "import numpy as np\n",
        "import torch\n",
        "import torch.nn.functional as F\n",
        "import torchvision\n",
        "import matplotlib.pyplot as plt\n",
        "from time import time\n",
        "from torchvision import datasets, transforms\n",
        "from torch import nn, optim\n",
        "\n",
        "transform = transforms.ToTensor()\n",
        "\n",
        "trainset = datasets.MNIST('./MNIST_data/', download=True, train=True, transform=transform)\n",
        "trainloader = torch.utils.data.DataLoader(trainset, batch_size=64, shuffle=True)\n",
        "valset = datasets.MNIST('./MNIST_data/', download=True, train=False, transform=transform)\n",
        "valloader = torch.utils.data.DataLoader(valset, batch_size=64, shuffle=True)\n",
        "\n",
        "dataiter = iter(trainloader)\n",
        "imagens, etiquetas = next(dataiter)\n",
        "plt.imshow(imagens[0].numpy().squeeze(), cmap='gray_r')\n",
        "plt.show()\n",
        "\n",
        "print(imagens[0].size())\n",
        "print(etiquetas[0].size())\n",
        "\n",
        "class Modelo(nn.Module):\n",
        "    def __init__(self):\n",
        "        super(Modelo, self).__init__()\n",
        "        self.linear_layer1 = nn.Linear(28*28, 128)\n",
        "        self.linear_layer2 = nn.Linear(128, 64)\n",
        "        self.linear_layer3 = nn.Linear(64, 10)\n",
        "\n",
        "    def forward(self, x):\n",
        "        x = F.relu(self.linear_layer1(x))\n",
        "        x = F.relu(self.linear_layer2(x))\n",
        "        x = self.linear_layer3(x)\n",
        "        return F.log_softmax(x, dim=1)\n",
        "\n",
        "def treino(modelo, trainloader, device):\n",
        "    otimizador = optim.SGD(modelo.parameters(), lr=0.01, momentum=0.5)\n",
        "    inicio = time()\n",
        "    criterio = nn.NLLLoss()\n",
        "    EPOCHS = 10\n",
        "    modelo.train()\n",
        "\n",
        "    for epoch in range(EPOCHS):\n",
        "        perda_acumulada = 0\n",
        "\n",
        "        for imagens, etiquetas in trainloader:\n",
        "            imagens = imagens.view(imagens.shape[0], -1)\n",
        "            otimizador.zero_grad()\n",
        "\n",
        "            output = modelo(imagens.to(device))\n",
        "            perda_instantanea = criterio(output, etiquetas.to(device))\n",
        "\n",
        "            perda_instantanea.backward()\n",
        "            otimizador.step()\n",
        "\n",
        "            perda_acumulada += perda_instantanea.item()\n",
        "\n",
        "        print(\"Epoch {} - perda resultante: {}\".format(epoch+1, perda_acumulada/len(trainloader)))\n",
        "\n",
        "    print(\"\\nTempo de treino (em minutos) = \", (time()-inicio)/60)\n",
        "\n",
        "def validacao(modelo, valloader, device):\n",
        "    conta_corretas, conta_todas = 0, 0\n",
        "    for imagens, etiquetas in valloader:\n",
        "        for i in range(len(etiquetas)):\n",
        "            img = imagens[i].view(1, 784)\n",
        "\n",
        "            with torch.no_grad():\n",
        "                logps = modelo(img.to(device))\n",
        "\n",
        "            ps = torch.exp(logps)\n",
        "            probab = list(ps.cpu().numpy()[0])\n",
        "            etiqueta_pred = probab.index(max(probab))\n",
        "            etiqueta_certa = etiquetas.numpy()[i]\n",
        "            if(etiqueta_certa == etiqueta_pred):\n",
        "                conta_corretas += 1\n",
        "            conta_todas += 1\n",
        "\n",
        "    print(\"Total de imagens testadas =\", conta_todas)\n",
        "    print(\"\\nPrecisão do modelo = {}%\".format(conta_corretas*100/conta_todas))\n",
        "\n",
        "# Certifique-se de escolher o dispositivo correto (CPU ou GPU)\n",
        "device = torch.device(\"cuda\" if torch.cuda.is_available() else \"cpu\")\n",
        "\n",
        "# Instanciando o modelo e movendo-o para o dispositivo adequado\n",
        "modelo = Modelo().to(device)\n",
        "\n",
        "# Treinamento do modelo\n",
        "treino(modelo, trainloader, device)\n",
        "\n",
        "# Avaliação do modelo\n",
        "validacao(modelo, valloader, device)\n"
      ]
    }
  ]
}