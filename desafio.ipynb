{
  "nbformat": 4,
  "nbformat_minor": 0,
  "metadata": {
    "colab": {
      "provenance": [],
      "authorship_tag": "ABX9TyPAHEPd4kb5G2ApNOSAmEfR",
      "include_colab_link": true
    },
    "kernelspec": {
      "name": "python3",
      "display_name": "Python 3"
    },
    "language_info": {
      "name": "python"
    }
  },
  "cells": [
    {
      "cell_type": "markdown",
      "metadata": {
        "id": "view-in-github",
        "colab_type": "text"
      },
      "source": [
        "<a href=\"https://colab.research.google.com/github/chaves08r/Projetos-pessoais/blob/main/desafio.ipynb\" target=\"_parent\"><img src=\"https://colab.research.google.com/assets/colab-badge.svg\" alt=\"Open In Colab\"/></a>"
      ]
    },
    {
      "cell_type": "markdown",
      "source": [
        "Instruções para entrega\n",
        "\n",
        "# 1️⃣ Desafio Classificador de nível de Herói\n",
        "\n",
        "**O Que deve ser utilizado**\n",
        "\n",
        "- Variáveis\n",
        "- Operadores\n",
        "- Laços de repetição\n",
        "- Estruturas de decisões\n",
        "\n",
        "## Objetivo\n",
        "\n",
        "Crie uma variável para armazenar o nome e a quantidade de experiência (XP) de um herói, depois utilize uma estrutura de decisão para apresentar alguma das mensagens abaixo:\n",
        "\n",
        "Se XP for menor do que 1.000 = Ferro\n",
        "Se XP for entre 1.001 e 2.000 = Bronze\n",
        "Se XP for entre 2.001 e 5.000 = Prata\n",
        "Se XP for entre 5.001 e 7.000 = Ouro\n",
        "Se XP for entre 7.001 e 8.000 = Platina\n",
        "Se XP for entre 8.001 e 9.000 = Ascendente\n",
        "Se XP for entre 9.001 e 10.000= Imortal\n",
        "Se XP for maior ou igual a 10.001 = Radiante\n",
        "\n",
        "## Saída\n",
        "\n",
        "Ao final deve se exibir uma mensagem:\n",
        "\"O Herói de nome **{nome}** está no nível de **{nivel}**\"\n"
      ],
      "metadata": {
        "id": "Vch8fG313vRf"
      }
    },
    {
      "cell_type": "code",
      "source": [
        "nome_heroi = input(\"Digite o nome do herói: \")\n",
        "xp_heroi = int(input(\"Digite o XP do herói: \"))\n",
        "\n",
        "if xp_heroi < 1000:\n",
        "    nivel = \"Ferro\"\n",
        "elif 1001 <= xp_heroi <= 2000:\n",
        "    nivel = \"Bronze\"\n",
        "elif 2001 <= xp_heroi <= 5000:\n",
        "    nivel = \"Prata\"\n",
        "elif 5001 <= xp_heroi <= 7000:\n",
        "    nivel = \"Ouro\"\n",
        "elif 7001 <= xp_heroi <= 8000:\n",
        "    nivel = \"Platina\"\n",
        "elif 8001 <= xp_heroi <= 9000:\n",
        "    nivel = \"Ascendente\"\n",
        "elif 9001 <= xp_heroi <= 10000:\n",
        "    nivel = \"Imortal\"\n",
        "else:\n",
        "    nivel = \"Radiante\"\n",
        "print(f\"O Herói de nome {nome_heroi} está no nível de {nivel}\")"
      ],
      "metadata": {
        "colab": {
          "base_uri": "https://localhost:8080/"
        },
        "id": "2BRsqbGN3GyU",
        "outputId": "27e3b850-aeef-4e7c-e602-614e290f48a1"
      },
      "execution_count": 4,
      "outputs": [
        {
          "output_type": "stream",
          "name": "stdout",
          "text": [
            "Digite o nome do herói: jardi\n",
            "Digite o XP do herói: 165588\n",
            "O Herói de nome jardi está no nível de Radiante\n"
          ]
        }
      ]
    }
  ]
}